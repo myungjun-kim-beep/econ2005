{
 "cells": [
  {
   "cell_type": "code",
   "execution_count": 31,
   "metadata": {
    "scrolled": false
   },
   "outputs": [
    {
     "name": "stdout",
     "output_type": "stream",
     "text": [
      "<class 'pandas.core.frame.DataFrame'>\n",
      "RangeIndex: 151 entries, 0 to 150\n",
      "Data columns (total 8 columns):\n",
      " #   Column       Non-Null Count  Dtype  \n",
      "---  ------       --------------  -----  \n",
      " 0   Month        151 non-null    object \n",
      " 1   KOSPI        151 non-null    float64\n",
      " 2   Price_Seoul  151 non-null    float64\n",
      " 3   Homeloan     151 non-null    float64\n",
      " 4   Call_rate    151 non-null    float64\n",
      " 5   M2           151 non-null    float64\n",
      " 6   Export       151 non-null    float64\n",
      " 7   Sentiment    151 non-null    float64\n",
      "dtypes: float64(7), object(1)\n",
      "memory usage: 9.6+ KB\n"
     ]
    }
   ],
   "source": [
    "import numpy as np\n",
    "import pandas as pd\n",
    "import matplotlib.pyplot as plt\n",
    "import seaborn as sns\n",
    "import statsmodels\n",
    "from statsmodels.tsa.stattools import adfuller\n",
    "from statsmodels.tsa.stattools import coint\n",
    "import random\n",
    "from dateutil.parser import parse\n",
    "from scipy import signal\n",
    "from scipy.interpolate import interp1d\n",
    "from scipy import stats\n",
    "from statsmodels.tsa.stattools import adfuller, kpss, acf, pacf, grangercausalitytests\n",
    "from statsmodels.nonparametric.smoothers_lowess import lowess\n",
    "from statsmodels.tsa.seasonal import seasonal_decompose\n",
    "from statsmodels.graphics.tsaplots import plot_acf, plot_pacf\n",
    "from sklearn.metrics import mean_squared_error\n",
    "from statsmodels.tsa.vector_ar.vecm import coint_johansen\n",
    "%matplotlib inline\n",
    "\n",
    "np.random.seed(42)\n",
    "\n",
    "\n",
    "%matplotlib inline\n",
    "\n",
    "data = pd.read_csv('https://raw.githubusercontent.com/myungjun-kim-beep/econ2005/master/team-project/2020-1%EC%A1%B0-Stock%20market%20and%20Housing%20market/Rawdata.csv')\n",
    "\n",
    "data.info()"
   ]
  },
  {
   "cell_type": "markdown",
   "metadata": {},
   "source": [
    "<span style = \"font-size:2em; font-weight:bolder\"> DATA </span>"
   ]
  },
  {
   "cell_type": "code",
   "execution_count": 3,
   "metadata": {},
   "outputs": [
    {
     "data": {
      "text/html": [
       "<div>\n",
       "<style scoped>\n",
       "    .dataframe tbody tr th:only-of-type {\n",
       "        vertical-align: middle;\n",
       "    }\n",
       "\n",
       "    .dataframe tbody tr th {\n",
       "        vertical-align: top;\n",
       "    }\n",
       "\n",
       "    .dataframe thead th {\n",
       "        text-align: right;\n",
       "    }\n",
       "</style>\n",
       "<table border=\"1\" class=\"dataframe\">\n",
       "  <thead>\n",
       "    <tr style=\"text-align: right;\">\n",
       "      <th></th>\n",
       "      <th>KOSPI</th>\n",
       "      <th>Price_Seoul</th>\n",
       "      <th>Homeloan</th>\n",
       "      <th>Call_rate</th>\n",
       "      <th>M2</th>\n",
       "      <th>Export</th>\n",
       "      <th>Sentiment</th>\n",
       "    </tr>\n",
       "  </thead>\n",
       "  <tbody>\n",
       "    <tr>\n",
       "      <th>count</th>\n",
       "      <td>151.000000</td>\n",
       "      <td>151.000000</td>\n",
       "      <td>151.000000</td>\n",
       "      <td>151.000000</td>\n",
       "      <td>151.000000</td>\n",
       "      <td>151.000000</td>\n",
       "      <td>151.000000</td>\n",
       "    </tr>\n",
       "    <tr>\n",
       "      <th>mean</th>\n",
       "      <td>1946.260397</td>\n",
       "      <td>86.678609</td>\n",
       "      <td>143740.114570</td>\n",
       "      <td>2.245099</td>\n",
       "      <td>2062.955629</td>\n",
       "      <td>18.985430</td>\n",
       "      <td>54.237020</td>\n",
       "    </tr>\n",
       "    <tr>\n",
       "      <th>std</th>\n",
       "      <td>283.207890</td>\n",
       "      <td>6.822394</td>\n",
       "      <td>27712.859613</td>\n",
       "      <td>1.031501</td>\n",
       "      <td>477.508221</td>\n",
       "      <td>2.903134</td>\n",
       "      <td>34.914707</td>\n",
       "    </tr>\n",
       "    <tr>\n",
       "      <th>min</th>\n",
       "      <td>1073.950000</td>\n",
       "      <td>78.640000</td>\n",
       "      <td>106294.400000</td>\n",
       "      <td>0.480000</td>\n",
       "      <td>1269.500000</td>\n",
       "      <td>9.900000</td>\n",
       "      <td>8.120000</td>\n",
       "    </tr>\n",
       "    <tr>\n",
       "      <th>25%</th>\n",
       "      <td>1849.095000</td>\n",
       "      <td>82.035000</td>\n",
       "      <td>124694.250000</td>\n",
       "      <td>1.490000</td>\n",
       "      <td>1678.700000</td>\n",
       "      <td>17.600000</td>\n",
       "      <td>23.565000</td>\n",
       "    </tr>\n",
       "    <tr>\n",
       "      <th>50%</th>\n",
       "      <td>1979.850000</td>\n",
       "      <td>84.140000</td>\n",
       "      <td>128903.200000</td>\n",
       "      <td>2.000000</td>\n",
       "      <td>1965.000000</td>\n",
       "      <td>19.500000</td>\n",
       "      <td>48.630000</td>\n",
       "    </tr>\n",
       "    <tr>\n",
       "      <th>75%</th>\n",
       "      <td>2083.065000</td>\n",
       "      <td>87.570000</td>\n",
       "      <td>169437.250000</td>\n",
       "      <td>2.750000</td>\n",
       "      <td>2452.300000</td>\n",
       "      <td>20.850000</td>\n",
       "      <td>80.925000</td>\n",
       "    </tr>\n",
       "    <tr>\n",
       "      <th>max</th>\n",
       "      <td>2533.510000</td>\n",
       "      <td>104.640000</td>\n",
       "      <td>202582.300000</td>\n",
       "      <td>5.220000</td>\n",
       "      <td>3077.300000</td>\n",
       "      <td>26.000000</td>\n",
       "      <td>164.490000</td>\n",
       "    </tr>\n",
       "  </tbody>\n",
       "</table>\n",
       "</div>"
      ],
      "text/plain": [
       "             KOSPI  Price_Seoul       Homeloan   Call_rate           M2  \\\n",
       "count   151.000000   151.000000     151.000000  151.000000   151.000000   \n",
       "mean   1946.260397    86.678609  143740.114570    2.245099  2062.955629   \n",
       "std     283.207890     6.822394   27712.859613    1.031501   477.508221   \n",
       "min    1073.950000    78.640000  106294.400000    0.480000  1269.500000   \n",
       "25%    1849.095000    82.035000  124694.250000    1.490000  1678.700000   \n",
       "50%    1979.850000    84.140000  128903.200000    2.000000  1965.000000   \n",
       "75%    2083.065000    87.570000  169437.250000    2.750000  2452.300000   \n",
       "max    2533.510000   104.640000  202582.300000    5.220000  3077.300000   \n",
       "\n",
       "           Export   Sentiment  \n",
       "count  151.000000  151.000000  \n",
       "mean    18.985430   54.237020  \n",
       "std      2.903134   34.914707  \n",
       "min      9.900000    8.120000  \n",
       "25%     17.600000   23.565000  \n",
       "50%     19.500000   48.630000  \n",
       "75%     20.850000   80.925000  \n",
       "max     26.000000  164.490000  "
      ]
     },
     "execution_count": 3,
     "metadata": {},
     "output_type": "execute_result"
    }
   ],
   "source": [
    "data.describe()"
   ]
  },
  {
   "cell_type": "code",
   "execution_count": 4,
   "metadata": {
    "scrolled": false
   },
   "outputs": [
    {
     "data": {
      "text/html": [
       "<div>\n",
       "<style scoped>\n",
       "    .dataframe tbody tr th:only-of-type {\n",
       "        vertical-align: middle;\n",
       "    }\n",
       "\n",
       "    .dataframe tbody tr th {\n",
       "        vertical-align: top;\n",
       "    }\n",
       "\n",
       "    .dataframe thead th {\n",
       "        text-align: right;\n",
       "    }\n",
       "</style>\n",
       "<table border=\"1\" class=\"dataframe\">\n",
       "  <thead>\n",
       "    <tr style=\"text-align: right;\">\n",
       "      <th></th>\n",
       "      <th>KOSPI</th>\n",
       "      <th>Price_Seoul</th>\n",
       "      <th>Homeloan</th>\n",
       "      <th>Call_rate</th>\n",
       "      <th>M2</th>\n",
       "      <th>Export</th>\n",
       "      <th>Sentiment</th>\n",
       "    </tr>\n",
       "  </thead>\n",
       "  <tbody>\n",
       "    <tr>\n",
       "      <th>KOSPI</th>\n",
       "      <td>1.000000</td>\n",
       "      <td>0.411322</td>\n",
       "      <td>0.678259</td>\n",
       "      <td>-0.448195</td>\n",
       "      <td>0.695196</td>\n",
       "      <td>0.814393</td>\n",
       "      <td>0.432811</td>\n",
       "    </tr>\n",
       "    <tr>\n",
       "      <th>Price_Seoul</th>\n",
       "      <td>0.411322</td>\n",
       "      <td>1.000000</td>\n",
       "      <td>0.877398</td>\n",
       "      <td>-0.511720</td>\n",
       "      <td>0.819980</td>\n",
       "      <td>0.222924</td>\n",
       "      <td>0.496427</td>\n",
       "    </tr>\n",
       "    <tr>\n",
       "      <th>Homeloan</th>\n",
       "      <td>0.678259</td>\n",
       "      <td>0.877398</td>\n",
       "      <td>1.000000</td>\n",
       "      <td>-0.723967</td>\n",
       "      <td>0.982793</td>\n",
       "      <td>0.457770</td>\n",
       "      <td>0.620553</td>\n",
       "    </tr>\n",
       "    <tr>\n",
       "      <th>Call_rate</th>\n",
       "      <td>-0.448195</td>\n",
       "      <td>-0.511720</td>\n",
       "      <td>-0.723967</td>\n",
       "      <td>1.000000</td>\n",
       "      <td>-0.755579</td>\n",
       "      <td>-0.236417</td>\n",
       "      <td>-0.428281</td>\n",
       "    </tr>\n",
       "    <tr>\n",
       "      <th>M2</th>\n",
       "      <td>0.695196</td>\n",
       "      <td>0.819980</td>\n",
       "      <td>0.982793</td>\n",
       "      <td>-0.755579</td>\n",
       "      <td>1.000000</td>\n",
       "      <td>0.513718</td>\n",
       "      <td>0.583477</td>\n",
       "    </tr>\n",
       "    <tr>\n",
       "      <th>Export</th>\n",
       "      <td>0.814393</td>\n",
       "      <td>0.222924</td>\n",
       "      <td>0.457770</td>\n",
       "      <td>-0.236417</td>\n",
       "      <td>0.513718</td>\n",
       "      <td>1.000000</td>\n",
       "      <td>0.149283</td>\n",
       "    </tr>\n",
       "    <tr>\n",
       "      <th>Sentiment</th>\n",
       "      <td>0.432811</td>\n",
       "      <td>0.496427</td>\n",
       "      <td>0.620553</td>\n",
       "      <td>-0.428281</td>\n",
       "      <td>0.583477</td>\n",
       "      <td>0.149283</td>\n",
       "      <td>1.000000</td>\n",
       "    </tr>\n",
       "  </tbody>\n",
       "</table>\n",
       "</div>"
      ],
      "text/plain": [
       "                KOSPI  Price_Seoul  Homeloan  Call_rate        M2    Export  \\\n",
       "KOSPI        1.000000     0.411322  0.678259  -0.448195  0.695196  0.814393   \n",
       "Price_Seoul  0.411322     1.000000  0.877398  -0.511720  0.819980  0.222924   \n",
       "Homeloan     0.678259     0.877398  1.000000  -0.723967  0.982793  0.457770   \n",
       "Call_rate   -0.448195    -0.511720 -0.723967   1.000000 -0.755579 -0.236417   \n",
       "M2           0.695196     0.819980  0.982793  -0.755579  1.000000  0.513718   \n",
       "Export       0.814393     0.222924  0.457770  -0.236417  0.513718  1.000000   \n",
       "Sentiment    0.432811     0.496427  0.620553  -0.428281  0.583477  0.149283   \n",
       "\n",
       "             Sentiment  \n",
       "KOSPI         0.432811  \n",
       "Price_Seoul   0.496427  \n",
       "Homeloan      0.620553  \n",
       "Call_rate    -0.428281  \n",
       "M2            0.583477  \n",
       "Export        0.149283  \n",
       "Sentiment     1.000000  "
      ]
     },
     "execution_count": 4,
     "metadata": {},
     "output_type": "execute_result"
    }
   ],
   "source": [
    "data.corr()"
   ]
  },
  {
   "cell_type": "code",
   "execution_count": 5,
   "metadata": {},
   "outputs": [
    {
     "data": {
      "text/plain": [
       "<matplotlib.axes._subplots.AxesSubplot at 0x1c2dc53c340>"
      ]
     },
     "execution_count": 5,
     "metadata": {},
     "output_type": "execute_result"
    },
    {
     "data": {
      "image/png": "[encoded data removed]",
      "text/plain": [
       "<Figure size 432x432 with 2 Axes>"
      ]
     },
     "metadata": {
      "needs_background": "light"
     },
     "output_type": "display_data"
    }
   ],
   "source": [
    "plt.figure(figsize=(6,6))\n",
    "sns.heatmap(data = data.corr(), annot=True, \n",
    "fmt = '.2f', linewidths=.5, cmap='Blues')"
   ]
  },
  {
   "cell_type": "code",
   "execution_count": 6,
   "metadata": {},
   "outputs": [
    {
     "data": {
      "text/html": [
       "<div>\n",
       "<style scoped>\n",
       "    .dataframe tbody tr th:only-of-type {\n",
       "        vertical-align: middle;\n",
       "    }\n",
       "\n",
       "    .dataframe tbody tr th {\n",
       "        vertical-align: top;\n",
       "    }\n",
       "\n",
       "    .dataframe thead th {\n",
       "        text-align: right;\n",
       "    }\n",
       "</style>\n",
       "<table border=\"1\" class=\"dataframe\">\n",
       "  <thead>\n",
       "    <tr style=\"text-align: right;\">\n",
       "      <th></th>\n",
       "      <th>Month</th>\n",
       "      <th>KOSPI</th>\n",
       "      <th>Price_Seoul</th>\n",
       "      <th>Homeloan</th>\n",
       "      <th>Call_rate</th>\n",
       "      <th>M2</th>\n",
       "      <th>Export</th>\n",
       "      <th>Sentiment</th>\n",
       "    </tr>\n",
       "  </thead>\n",
       "  <tbody>\n",
       "    <tr>\n",
       "      <th>0</th>\n",
       "      <td>07-Dec</td>\n",
       "      <td>1903.99</td>\n",
       "      <td>78.64</td>\n",
       "      <td>107469.2</td>\n",
       "      <td>4.99</td>\n",
       "      <td>1269.5</td>\n",
       "      <td>15.4</td>\n",
       "      <td>59.52</td>\n",
       "    </tr>\n",
       "    <tr>\n",
       "      <th>1</th>\n",
       "      <td>08-Jan</td>\n",
       "      <td>1732.29</td>\n",
       "      <td>79.19</td>\n",
       "      <td>107433.5</td>\n",
       "      <td>4.99</td>\n",
       "      <td>1286.4</td>\n",
       "      <td>13.5</td>\n",
       "      <td>74.43</td>\n",
       "    </tr>\n",
       "    <tr>\n",
       "      <th>2</th>\n",
       "      <td>08-Feb</td>\n",
       "      <td>1689.53</td>\n",
       "      <td>79.72</td>\n",
       "      <td>106294.4</td>\n",
       "      <td>4.97</td>\n",
       "      <td>1309.2</td>\n",
       "      <td>15.6</td>\n",
       "      <td>80.63</td>\n",
       "    </tr>\n",
       "    <tr>\n",
       "      <th>3</th>\n",
       "      <td>08-Mar</td>\n",
       "      <td>1651.15</td>\n",
       "      <td>80.87</td>\n",
       "      <td>106393.8</td>\n",
       "      <td>4.97</td>\n",
       "      <td>1324.0</td>\n",
       "      <td>15.7</td>\n",
       "      <td>96.05</td>\n",
       "    </tr>\n",
       "    <tr>\n",
       "      <th>4</th>\n",
       "      <td>08-Apr</td>\n",
       "      <td>1776.58</td>\n",
       "      <td>82.20</td>\n",
       "      <td>107235.2</td>\n",
       "      <td>4.99</td>\n",
       "      <td>1339.4</td>\n",
       "      <td>16.5</td>\n",
       "      <td>95.65</td>\n",
       "    </tr>\n",
       "  </tbody>\n",
       "</table>\n",
       "</div>"
      ],
      "text/plain": [
       "    Month    KOSPI  Price_Seoul  Homeloan  Call_rate      M2  Export  \\\n",
       "0  07-Dec  1903.99        78.64  107469.2       4.99  1269.5    15.4   \n",
       "1  08-Jan  1732.29        79.19  107433.5       4.99  1286.4    13.5   \n",
       "2  08-Feb  1689.53        79.72  106294.4       4.97  1309.2    15.6   \n",
       "3  08-Mar  1651.15        80.87  106393.8       4.97  1324.0    15.7   \n",
       "4  08-Apr  1776.58        82.20  107235.2       4.99  1339.4    16.5   \n",
       "\n",
       "   Sentiment  \n",
       "0      59.52  \n",
       "1      74.43  \n",
       "2      80.63  \n",
       "3      96.05  \n",
       "4      95.65  "
      ]
     },
     "execution_count": 6,
     "metadata": {},
     "output_type": "execute_result"
    }
   ],
   "source": [
    "data.head()"
   ]
  },
  {
   "cell_type": "markdown",
   "metadata": {},
   "source": [
    "<span style = \"font-size:2em; font-weight:bolder\"> Unit root test </span>"
   ]
  },
  {
   "cell_type": "code",
   "execution_count": 7,
   "metadata": {},
   "outputs": [],
   "source": [
    "class StationarityTests:\n",
    "    def __init__(self, significance=.05):\n",
    "        self.SignificanceLevel = significance\n",
    "        self.pValue = None\n",
    "        self.isStationary = None\n",
    "    \n",
    "    def ADF_Stationarity_Test(self, timeseries, printResults = True):\n",
    "\n",
    "        #Dickey-Fuller test:\n",
    "        adfTest = adfuller(timeseries, autolag='AIC')\n",
    "        \n",
    "        self.pValue = adfTest[1]\n",
    "        \n",
    "        if (self.pValue<self.SignificanceLevel):\n",
    "            self.isStationary = True\n",
    "        else:\n",
    "            self.isStationary = False\n",
    "        \n",
    "        if printResults:\n",
    "            dfResults = pd.Series(adfTest[0:4], index=['ADF Test Statistic','P-Value','# Lags Used','# Observations Used'])\n",
    "\n",
    "            #Add Critical Values\n",
    "            for key,value in adfTest[4].items():\n",
    "                dfResults['Critical Value (%s)'%key] = value\n",
    "\n",
    "            print('Augmented Dickey-Fuller Test Results:')\n",
    "            print(dfResults)"
   ]
  },
  {
   "cell_type": "code",
   "execution_count": 8,
   "metadata": {},
   "outputs": [
    {
     "name": "stdout",
     "output_type": "stream",
     "text": [
      "Augmented Dickey-Fuller Test Results:\n",
      "ADF Test Statistic       -1.791247\n",
      "P-Value                   0.384816\n",
      "# Lags Used               2.000000\n",
      "# Observations Used     148.000000\n",
      "Critical Value (1%)      -3.475325\n",
      "Critical Value (5%)      -2.881275\n",
      "Critical Value (10%)     -2.577293\n",
      "dtype: float64\n",
      "Is the time series stationary? False\n"
     ]
    }
   ],
   "source": [
    "df_1 = data[[\"KOSPI\"]]\n",
    "df_1 = df_1.dropna()\n",
    "\n",
    "sTest = StationarityTests()\n",
    "sTest.ADF_Stationarity_Test(df_1, printResults = True)\n",
    "print(\"Is the time series stationary? {0}\".format(sTest.isStationary))"
   ]
  },
  {
   "cell_type": "code",
   "execution_count": 9,
   "metadata": {},
   "outputs": [
    {
     "name": "stdout",
     "output_type": "stream",
     "text": [
      "Augmented Dickey-Fuller Test Results:\n",
      "ADF Test Statistic        1.058839\n",
      "P-Value                   0.994850\n",
      "# Lags Used               1.000000\n",
      "# Observations Used     149.000000\n",
      "Critical Value (1%)      -3.475018\n",
      "Critical Value (5%)      -2.881141\n",
      "Critical Value (10%)     -2.577221\n",
      "dtype: float64\n",
      "Is the time series stationary? False\n"
     ]
    }
   ],
   "source": [
    "df_2 = data[[\"Price_Seoul\"]]\n",
    "df_2 = df_2.dropna()\n",
    "sTest = StationarityTests()\n",
    "sTest.ADF_Stationarity_Test(df_2, printResults = True)\n",
    "print(\"Is the time series stationary? {0}\".format(sTest.isStationary))"
   ]
  },
  {
   "cell_type": "code",
   "execution_count": 10,
   "metadata": {},
   "outputs": [
    {
     "name": "stdout",
     "output_type": "stream",
     "text": [
      "Augmented Dickey-Fuller Test Results:\n",
      "ADF Test Statistic       -2.559363\n",
      "P-Value                   0.101690\n",
      "# Lags Used               2.000000\n",
      "# Observations Used     148.000000\n",
      "Critical Value (1%)      -3.475325\n",
      "Critical Value (5%)      -2.881275\n",
      "Critical Value (10%)     -2.577293\n",
      "dtype: float64\n",
      "Is the time series stationary? False\n"
     ]
    }
   ],
   "source": [
    "df_3 = data[[\"Call_rate\"]]\n",
    "df_3 = df_3.dropna()\n",
    "sTest = StationarityTests()\n",
    "sTest.ADF_Stationarity_Test(df_3, printResults = True)\n",
    "print(\"Is the time series stationary? {0}\".format(sTest.isStationary))"
   ]
  },
  {
   "cell_type": "code",
   "execution_count": 11,
   "metadata": {},
   "outputs": [
    {
     "name": "stdout",
     "output_type": "stream",
     "text": [
      "Augmented Dickey-Fuller Test Results:\n",
      "ADF Test Statistic        2.227693\n",
      "P-Value                   0.998905\n",
      "# Lags Used               1.000000\n",
      "# Observations Used     149.000000\n",
      "Critical Value (1%)      -3.475018\n",
      "Critical Value (5%)      -2.881141\n",
      "Critical Value (10%)     -2.577221\n",
      "dtype: float64\n",
      "Is the time series stationary? False\n"
     ]
    }
   ],
   "source": [
    "df_4 = data[[\"Homeloan\"]]\n",
    "df_4 = df_4.dropna()\n",
    "sTest = StationarityTests()\n",
    "sTest.ADF_Stationarity_Test(df_4, printResults = True)\n",
    "print(\"Is the time series stationary? {0}\".format(sTest.isStationary))"
   ]
  },
  {
   "cell_type": "code",
   "execution_count": 12,
   "metadata": {
    "scrolled": true
   },
   "outputs": [
    {
     "name": "stdout",
     "output_type": "stream",
     "text": [
      "Augmented Dickey-Fuller Test Results:\n",
      "ADF Test Statistic        2.888647\n",
      "P-Value                   1.000000\n",
      "# Lags Used               6.000000\n",
      "# Observations Used     144.000000\n",
      "Critical Value (1%)      -3.476598\n",
      "Critical Value (5%)      -2.881829\n",
      "Critical Value (10%)     -2.577589\n",
      "dtype: float64\n",
      "Is the time series stationary? False\n"
     ]
    }
   ],
   "source": [
    "df_5 = data[[\"M2\"]]\n",
    "df_5 = df_5.dropna()\n",
    "sTest = StationarityTests()\n",
    "sTest.ADF_Stationarity_Test(df_5, printResults = True)\n",
    "print(\"Is the time series stationary? {0}\".format(sTest.isStationary))"
   ]
  },
  {
   "cell_type": "code",
   "execution_count": 13,
   "metadata": {},
   "outputs": [
    {
     "name": "stdout",
     "output_type": "stream",
     "text": [
      "Augmented Dickey-Fuller Test Results:\n",
      "ADF Test Statistic       -3.688439\n",
      "P-Value                   0.004279\n",
      "# Lags Used              13.000000\n",
      "# Observations Used     137.000000\n",
      "Critical Value (1%)      -3.479007\n",
      "Critical Value (5%)      -2.882878\n",
      "Critical Value (10%)     -2.578149\n",
      "dtype: float64\n",
      "Is the time series stationary? True\n"
     ]
    }
   ],
   "source": [
    "df_6 = data[[\"Export\"]]\n",
    "df_6 = df_6.dropna()\n",
    "sTest = StationarityTests()\n",
    "sTest.ADF_Stationarity_Test(df_6, printResults = True)\n",
    "print(\"Is the time series stationary? {0}\".format(sTest.isStationary))"
   ]
  },
  {
   "cell_type": "code",
   "execution_count": 14,
   "metadata": {},
   "outputs": [
    {
     "name": "stdout",
     "output_type": "stream",
     "text": [
      "Augmented Dickey-Fuller Test Results:\n",
      "ADF Test Statistic       -1.319967\n",
      "P-Value                   0.619989\n",
      "# Lags Used               5.000000\n",
      "# Observations Used     145.000000\n",
      "Critical Value (1%)      -3.476273\n",
      "Critical Value (5%)      -2.881688\n",
      "Critical Value (10%)     -2.577513\n",
      "dtype: float64\n",
      "Is the time series stationary? False\n"
     ]
    }
   ],
   "source": [
    "df_7 = data[[\"Sentiment\"]]\n",
    "df_7 = df_7.dropna()\n",
    "sTest = StationarityTests()\n",
    "sTest.ADF_Stationarity_Test(df_7, printResults = True)\n",
    "print(\"Is the time series stationary? {0}\".format(sTest.isStationary))"
   ]
  },
  {
   "cell_type": "code",
   "execution_count": 15,
   "metadata": {},
   "outputs": [],
   "source": [
    "data = data.set_index('Month')"
   ]
  },
  {
   "cell_type": "code",
   "execution_count": 16,
   "metadata": {
    "scrolled": true
   },
   "outputs": [
    {
     "data": {
      "text/html": [
       "<div>\n",
       "<style scoped>\n",
       "    .dataframe tbody tr th:only-of-type {\n",
       "        vertical-align: middle;\n",
       "    }\n",
       "\n",
       "    .dataframe tbody tr th {\n",
       "        vertical-align: top;\n",
       "    }\n",
       "\n",
       "    .dataframe thead th {\n",
       "        text-align: right;\n",
       "    }\n",
       "</style>\n",
       "<table border=\"1\" class=\"dataframe\">\n",
       "  <thead>\n",
       "    <tr style=\"text-align: right;\">\n",
       "      <th></th>\n",
       "      <th>KOSPI</th>\n",
       "      <th>Price_Seoul</th>\n",
       "      <th>Homeloan</th>\n",
       "      <th>Call_rate</th>\n",
       "      <th>M2</th>\n",
       "      <th>Export</th>\n",
       "      <th>Sentiment</th>\n",
       "    </tr>\n",
       "    <tr>\n",
       "      <th>Month</th>\n",
       "      <th></th>\n",
       "      <th></th>\n",
       "      <th></th>\n",
       "      <th></th>\n",
       "      <th></th>\n",
       "      <th></th>\n",
       "      <th></th>\n",
       "    </tr>\n",
       "  </thead>\n",
       "  <tbody>\n",
       "    <tr>\n",
       "      <th>08-Jan</th>\n",
       "      <td>-171.70</td>\n",
       "      <td>0.55</td>\n",
       "      <td>-35.7</td>\n",
       "      <td>0.00</td>\n",
       "      <td>16.9</td>\n",
       "      <td>-1.9</td>\n",
       "      <td>14.91</td>\n",
       "    </tr>\n",
       "    <tr>\n",
       "      <th>08-Feb</th>\n",
       "      <td>-42.76</td>\n",
       "      <td>0.53</td>\n",
       "      <td>-1139.1</td>\n",
       "      <td>-0.02</td>\n",
       "      <td>22.8</td>\n",
       "      <td>2.1</td>\n",
       "      <td>6.20</td>\n",
       "    </tr>\n",
       "    <tr>\n",
       "      <th>08-Mar</th>\n",
       "      <td>-38.38</td>\n",
       "      <td>1.15</td>\n",
       "      <td>99.4</td>\n",
       "      <td>0.00</td>\n",
       "      <td>14.8</td>\n",
       "      <td>0.1</td>\n",
       "      <td>15.42</td>\n",
       "    </tr>\n",
       "    <tr>\n",
       "      <th>08-Apr</th>\n",
       "      <td>125.43</td>\n",
       "      <td>1.33</td>\n",
       "      <td>841.4</td>\n",
       "      <td>0.02</td>\n",
       "      <td>15.4</td>\n",
       "      <td>0.8</td>\n",
       "      <td>-0.40</td>\n",
       "    </tr>\n",
       "    <tr>\n",
       "      <th>08-May</th>\n",
       "      <td>70.17</td>\n",
       "      <td>0.70</td>\n",
       "      <td>657.0</td>\n",
       "      <td>-0.02</td>\n",
       "      <td>17.2</td>\n",
       "      <td>1.0</td>\n",
       "      <td>-7.98</td>\n",
       "    </tr>\n",
       "  </tbody>\n",
       "</table>\n",
       "</div>"
      ],
      "text/plain": [
       "         KOSPI  Price_Seoul  Homeloan  Call_rate    M2  Export  Sentiment\n",
       "Month                                                                    \n",
       "08-Jan -171.70         0.55     -35.7       0.00  16.9    -1.9      14.91\n",
       "08-Feb  -42.76         0.53   -1139.1      -0.02  22.8     2.1       6.20\n",
       "08-Mar  -38.38         1.15      99.4       0.00  14.8     0.1      15.42\n",
       "08-Apr  125.43         1.33     841.4       0.02  15.4     0.8      -0.40\n",
       "08-May   70.17         0.70     657.0      -0.02  17.2     1.0      -7.98"
      ]
     },
     "execution_count": 16,
     "metadata": {},
     "output_type": "execute_result"
    }
   ],
   "source": [
    "data_diff = data.diff().dropna()\n",
    "data_diff.head()"
   ]
  },
  {
   "cell_type": "code",
   "execution_count": 17,
   "metadata": {},
   "outputs": [
    {
     "name": "stdout",
     "output_type": "stream",
     "text": [
      "Augmented Dickey-Fuller Test Results:\n",
      "ADF Test Statistic     -8.879243e+00\n",
      "P-Value                 1.331789e-14\n",
      "# Lags Used             1.000000e+00\n",
      "# Observations Used     1.480000e+02\n",
      "Critical Value (1%)    -3.475325e+00\n",
      "Critical Value (5%)    -2.881275e+00\n",
      "Critical Value (10%)   -2.577293e+00\n",
      "dtype: float64\n",
      "Is the time series stationary? True\n"
     ]
    }
   ],
   "source": [
    "df_1 = data_diff[[\"KOSPI\"]]\n",
    "df_1 = df_1.dropna()\n",
    "sTest = StationarityTests()\n",
    "sTest.ADF_Stationarity_Test(df_1, printResults = True)\n",
    "print(\"Is the time series stationary? {0}\".format(sTest.isStationary))"
   ]
  },
  {
   "cell_type": "code",
   "execution_count": 18,
   "metadata": {},
   "outputs": [
    {
     "name": "stdout",
     "output_type": "stream",
     "text": [
      "Augmented Dickey-Fuller Test Results:\n",
      "ADF Test Statistic       -4.618638\n",
      "P-Value                   0.000119\n",
      "# Lags Used               0.000000\n",
      "# Observations Used     149.000000\n",
      "Critical Value (1%)      -3.475018\n",
      "Critical Value (5%)      -2.881141\n",
      "Critical Value (10%)     -2.577221\n",
      "dtype: float64\n",
      "Is the time series stationary? True\n"
     ]
    }
   ],
   "source": [
    "df_2 = data_diff[[\"Price_Seoul\"]]\n",
    "df_2 = df_2.dropna()\n",
    "sTest = StationarityTests()\n",
    "sTest.ADF_Stationarity_Test(df_2, printResults = True)\n",
    "print(\"Is the time series stationary? {0}\".format(sTest.isStationary))"
   ]
  },
  {
   "cell_type": "code",
   "execution_count": 19,
   "metadata": {},
   "outputs": [
    {
     "name": "stdout",
     "output_type": "stream",
     "text": [
      "Augmented Dickey-Fuller Test Results:\n",
      "ADF Test Statistic       -5.360120\n",
      "P-Value                   0.000004\n",
      "# Lags Used               0.000000\n",
      "# Observations Used     149.000000\n",
      "Critical Value (1%)      -3.475018\n",
      "Critical Value (5%)      -2.881141\n",
      "Critical Value (10%)     -2.577221\n",
      "dtype: float64\n",
      "Is the time series stationary? True\n"
     ]
    }
   ],
   "source": [
    "df_3 = data_diff[[\"Call_rate\"]]\n",
    "df_3 = df_3.dropna()\n",
    "sTest = StationarityTests()\n",
    "sTest.ADF_Stationarity_Test(df_3, printResults = True)\n",
    "print(\"Is the time series stationary? {0}\".format(sTest.isStationary))"
   ]
  },
  {
   "cell_type": "code",
   "execution_count": 20,
   "metadata": {},
   "outputs": [
    {
     "name": "stdout",
     "output_type": "stream",
     "text": [
      "Augmented Dickey-Fuller Test Results:\n",
      "ADF Test Statistic       -3.069829\n",
      "P-Value                   0.028868\n",
      "# Lags Used               4.000000\n",
      "# Observations Used     145.000000\n",
      "Critical Value (1%)      -3.476273\n",
      "Critical Value (5%)      -2.881688\n",
      "Critical Value (10%)     -2.577513\n",
      "dtype: float64\n",
      "Is the time series stationary? True\n"
     ]
    }
   ],
   "source": [
    "df_4 = data_diff[[\"Homeloan\"]]\n",
    "df_4 = df_4.dropna()\n",
    "sTest = StationarityTests()\n",
    "sTest.ADF_Stationarity_Test(df_4, printResults = True)\n",
    "print(\"Is the time series stationary? {0}\".format(sTest.isStationary))"
   ]
  },
  {
   "cell_type": "code",
   "execution_count": 21,
   "metadata": {
    "scrolled": true
   },
   "outputs": [
    {
     "name": "stdout",
     "output_type": "stream",
     "text": [
      "Augmented Dickey-Fuller Test Results:\n",
      "ADF Test Statistic       -1.099730\n",
      "P-Value                   0.715180\n",
      "# Lags Used               4.000000\n",
      "# Observations Used     145.000000\n",
      "Critical Value (1%)      -3.476273\n",
      "Critical Value (5%)      -2.881688\n",
      "Critical Value (10%)     -2.577513\n",
      "dtype: float64\n",
      "Is the time series stationary? False\n"
     ]
    }
   ],
   "source": [
    "df_5 = data_diff[[\"M2\"]]\n",
    "df_5 = df_5.dropna()\n",
    "sTest = StationarityTests()\n",
    "sTest.ADF_Stationarity_Test(df_5, printResults = True)\n",
    "print(\"Is the time series stationary? {0}\".format(sTest.isStationary))"
   ]
  },
  {
   "cell_type": "code",
   "execution_count": 22,
   "metadata": {},
   "outputs": [
    {
     "name": "stdout",
     "output_type": "stream",
     "text": [
      "Augmented Dickey-Fuller Test Results:\n",
      "ADF Test Statistic       -2.683541\n",
      "P-Value                   0.076930\n",
      "# Lags Used              12.000000\n",
      "# Observations Used     137.000000\n",
      "Critical Value (1%)      -3.479007\n",
      "Critical Value (5%)      -2.882878\n",
      "Critical Value (10%)     -2.578149\n",
      "dtype: float64\n",
      "Is the time series stationary? False\n"
     ]
    }
   ],
   "source": [
    "df_6 = data_diff[[\"Export\"]]\n",
    "df_6 = df_6.dropna()\n",
    "sTest = StationarityTests()\n",
    "sTest.ADF_Stationarity_Test(df_6, printResults = True)\n",
    "print(\"Is the time series stationary? {0}\".format(sTest.isStationary))"
   ]
  },
  {
   "cell_type": "code",
   "execution_count": 23,
   "metadata": {},
   "outputs": [
    {
     "name": "stdout",
     "output_type": "stream",
     "text": [
      "Augmented Dickey-Fuller Test Results:\n",
      "ADF Test Statistic     -7.820461e+00\n",
      "P-Value                 6.691703e-12\n",
      "# Lags Used             4.000000e+00\n",
      "# Observations Used     1.450000e+02\n",
      "Critical Value (1%)    -3.476273e+00\n",
      "Critical Value (5%)    -2.881688e+00\n",
      "Critical Value (10%)   -2.577513e+00\n",
      "dtype: float64\n",
      "Is the time series stationary? True\n"
     ]
    }
   ],
   "source": [
    "df_7 = data_diff[[\"Sentiment\"]]\n",
    "df_7 = df_7.dropna()\n",
    "sTest = StationarityTests()\n",
    "sTest.ADF_Stationarity_Test(df_7, printResults = True)\n",
    "print(\"Is the time series stationary? {0}\".format(sTest.isStationary))"
   ]
  },
  {
   "cell_type": "code",
   "execution_count": 24,
   "metadata": {},
   "outputs": [],
   "source": [
    "tickers = ['KOSPI', 'Price_Seoul']"
   ]
  },
  {
   "cell_type": "code",
   "execution_count": 25,
   "metadata": {},
   "outputs": [
    {
     "data": {
      "text/plain": [
       "Text(0.5, 1.0, 'KOSPI and  Price_Seoul')"
      ]
     },
     "execution_count": 25,
     "metadata": {},
     "output_type": "execute_result"
    },
    {
     "data": {
      "image/png": "[encoded data removed]",
      "text/plain": [
       "<Figure size 1080x504 with 1 Axes>"
      ]
     },
     "metadata": {
      "needs_background": "light"
     },
     "output_type": "display_data"
    }
   ],
   "source": [
    "pd.concat([data[tickers[0]], data[tickers[1]]], axis=1).plot(figsize=(15,7))\n",
    "plt.ylabel('Price level');\n",
    "plt.xlabel('Time');\n",
    "title = tickers[0] + ' and  ' + tickers[1]\n",
    "plt.title(title)"
   ]
  },
  {
   "cell_type": "code",
   "execution_count": 26,
   "metadata": {
    "scrolled": true
   },
   "outputs": [
    {
     "data": {
      "text/plain": [
       "Text(0.5, 1.0, 'KOSPI and  Price_Seoul')"
      ]
     },
     "execution_count": 26,
     "metadata": {},
     "output_type": "execute_result"
    },
    {
     "data": {
      "image/png": "[encoded data removed]",
      "text/plain": [
       "<Figure size 1080x504 with 1 Axes>"
      ]
     },
     "metadata": {
      "needs_background": "light"
     },
     "output_type": "display_data"
    }
   ],
   "source": [
    "pd.concat([data_diff[tickers[0]], data_diff[tickers[1]]], axis=1).plot(figsize=(15,7))\n",
    "plt.ylabel('Price level');\n",
    "plt.xlabel('Time');\n",
    "title = tickers[0] + ' and  ' + tickers[1]\n",
    "plt.title(title)"
   ]
  },
  {
   "cell_type": "markdown",
   "metadata": {},
   "source": [
    "<span style = \"font-size:2em; font-weight:bolder\"> Cointegration test </span>"
   ]
  },
  {
   "cell_type": "code",
   "execution_count": 30,
   "metadata": {
    "scrolled": true
   },
   "outputs": [
    {
     "name": "stdout",
     "output_type": "stream",
     "text": [
      "   max_eig_stat  trace_stat\n",
      "0     12.268551   15.154265\n",
      "1      2.885714    2.885714 \n",
      "\n",
      "Critical values(90%, 95%, 99%) of max_eig_stat\n",
      " [[12.2971 14.2639 18.52  ]\n",
      " [ 2.7055  3.8415  6.6349]] \n",
      "\n",
      "Critical values(90%, 95%, 99%) of trace_stat\n",
      " [[13.4294 15.4943 19.9349]\n",
      " [ 2.7055  3.8415  6.6349]] \n",
      "\n",
      "   max_eig_stat  trace_stat\n",
      "0     13.628014   13.628166\n",
      "1      0.000151    0.000151 \n",
      "\n",
      "Critical values(90%, 95%, 99%) of max_eig_stat\n",
      " [[15.0006 17.1481 21.7465]\n",
      " [ 2.7055  3.8415  6.6349]] \n",
      "\n",
      "Critical values(90%, 95%, 99%) of trace_stat\n",
      " [[16.1619 18.3985 23.1485]\n",
      " [ 2.7055  3.8415  6.6349]] \n",
      "\n",
      "   max_eig_stat  trace_stat\n",
      "0     13.509790   16.269834\n",
      "1      2.760044    2.760044 \n",
      "\n",
      "Critical values(90%, 95%, 99%) of max_eig_stat\n",
      " [[ 9.4748 11.2246 15.0923]\n",
      " [ 2.9762  4.1296  6.9406]] \n",
      "\n",
      "Critical values(90%, 95%, 99%) of trace_stat\n",
      " [[10.4741 12.3212 16.364 ]\n",
      " [ 2.9762  4.1296  6.9406]] \n",
      "\n"
     ]
    }
   ],
   "source": [
    "data = pd.read_csv(\"https://raw.githubusercontent.com/myungjun-kim-beep/econ2005/master/team-project/2020-1%EC%A1%B0-Stock%20market%20and%20Housing%20market/Rawdata.txt\",index_col='Month',sep='\\s+',nrows=246)\n",
    "data = data[[\"Price_Seoul\",\"Sentiment\"]]\n",
    "y = data['Sentiment']\n",
    "c = data['Price_Seoul']\n",
    "\n",
    "def joh_output(res):\n",
    "    output = pd.DataFrame([res.lr2,res.lr1],\n",
    "                          index=['max_eig_stat',\"trace_stat\"])\n",
    "    print(output.T,'\\n')\n",
    "    print(\"Critical values(90%, 95%, 99%) of max_eig_stat\\n\",res.cvm,'\\n')\n",
    "    print(\"Critical values(90%, 95%, 99%) of trace_stat\\n\",res.cvt,'\\n')\n",
    "\n",
    "\n",
    "# Model 3 (2 lag-difference used = 3 lags VAR or VAR(3) model)\n",
    "# with constant/trend (deterministc) term\n",
    "joh_model3 = coint_johansen(data,0,2) # k_ar_diff +1 = K\n",
    "joh_output(joh_model3)\n",
    "\n",
    "# Model 2: with linear trend only\n",
    "joh_model2 = coint_johansen(data,1,2) # k_ar_diff +1 = K\n",
    "joh_output(joh_model2)\n",
    "\n",
    "# Model 1: no constant/trend (deterministc) term\n",
    "joh_model1 = coint_johansen(data,-1,2) # k_ar_diff +1 = K\n",
    "joh_output(joh_model1)"
   ]
  },
  {
   "cell_type": "markdown",
   "metadata": {},
   "source": [
    "<span style = \"font-size:2em; font-weight:bolder\"> Granger Causality </span>"
   ]
  },
  {
   "cell_type": "code",
   "execution_count": 28,
   "metadata": {
    "scrolled": true
   },
   "outputs": [
    {
     "data": {
      "text/html": [
       "<div>\n",
       "<style scoped>\n",
       "    .dataframe tbody tr th:only-of-type {\n",
       "        vertical-align: middle;\n",
       "    }\n",
       "\n",
       "    .dataframe tbody tr th {\n",
       "        vertical-align: top;\n",
       "    }\n",
       "\n",
       "    .dataframe thead th {\n",
       "        text-align: right;\n",
       "    }\n",
       "</style>\n",
       "<table border=\"1\" class=\"dataframe\">\n",
       "  <thead>\n",
       "    <tr style=\"text-align: right;\">\n",
       "      <th></th>\n",
       "      <th>KOSPI</th>\n",
       "      <th>Price_Seoul</th>\n",
       "      <th>Homeloan</th>\n",
       "      <th>Call_rate</th>\n",
       "      <th>M2</th>\n",
       "      <th>Export</th>\n",
       "      <th>Sentiment</th>\n",
       "    </tr>\n",
       "    <tr>\n",
       "      <th>Month</th>\n",
       "      <th></th>\n",
       "      <th></th>\n",
       "      <th></th>\n",
       "      <th></th>\n",
       "      <th></th>\n",
       "      <th></th>\n",
       "      <th></th>\n",
       "    </tr>\n",
       "  </thead>\n",
       "  <tbody>\n",
       "    <tr>\n",
       "      <th>08-Jan</th>\n",
       "      <td>-171.70</td>\n",
       "      <td>0.55</td>\n",
       "      <td>-35.7</td>\n",
       "      <td>0.00</td>\n",
       "      <td>16.9</td>\n",
       "      <td>-1.9</td>\n",
       "      <td>14.91</td>\n",
       "    </tr>\n",
       "    <tr>\n",
       "      <th>08-Feb</th>\n",
       "      <td>-42.76</td>\n",
       "      <td>0.53</td>\n",
       "      <td>-1139.1</td>\n",
       "      <td>-0.02</td>\n",
       "      <td>22.8</td>\n",
       "      <td>2.1</td>\n",
       "      <td>6.20</td>\n",
       "    </tr>\n",
       "    <tr>\n",
       "      <th>08-Mar</th>\n",
       "      <td>-38.38</td>\n",
       "      <td>1.15</td>\n",
       "      <td>99.4</td>\n",
       "      <td>0.00</td>\n",
       "      <td>14.8</td>\n",
       "      <td>0.1</td>\n",
       "      <td>15.42</td>\n",
       "    </tr>\n",
       "    <tr>\n",
       "      <th>08-Apr</th>\n",
       "      <td>125.43</td>\n",
       "      <td>1.33</td>\n",
       "      <td>841.4</td>\n",
       "      <td>0.02</td>\n",
       "      <td>15.4</td>\n",
       "      <td>0.8</td>\n",
       "      <td>-0.40</td>\n",
       "    </tr>\n",
       "    <tr>\n",
       "      <th>08-May</th>\n",
       "      <td>70.17</td>\n",
       "      <td>0.70</td>\n",
       "      <td>657.0</td>\n",
       "      <td>-0.02</td>\n",
       "      <td>17.2</td>\n",
       "      <td>1.0</td>\n",
       "      <td>-7.98</td>\n",
       "    </tr>\n",
       "  </tbody>\n",
       "</table>\n",
       "</div>"
      ],
      "text/plain": [
       "         KOSPI  Price_Seoul  Homeloan  Call_rate    M2  Export  Sentiment\n",
       "Month                                                                    \n",
       "08-Jan -171.70         0.55     -35.7       0.00  16.9    -1.9      14.91\n",
       "08-Feb  -42.76         0.53   -1139.1      -0.02  22.8     2.1       6.20\n",
       "08-Mar  -38.38         1.15      99.4       0.00  14.8     0.1      15.42\n",
       "08-Apr  125.43         1.33     841.4       0.02  15.4     0.8      -0.40\n",
       "08-May   70.17         0.70     657.0      -0.02  17.2     1.0      -7.98"
      ]
     },
     "execution_count": 28,
     "metadata": {},
     "output_type": "execute_result"
    }
   ],
   "source": [
    "data_diff.head()"
   ]
  },
  {
   "cell_type": "code",
   "execution_count": 29,
   "metadata": {},
   "outputs": [
    {
     "name": "stdout",
     "output_type": "stream",
     "text": [
      "\n",
      "Granger Causality\n",
      "number of lags (no zero) 1\n",
      "ssr based F test:         F=48.3232 , p=0.0000  , df_denom=146, df_num=1\n",
      "ssr based chi2 test:   chi2=49.3161 , p=0.0000  , df=1\n",
      "likelihood ratio test: chi2=42.6015 , p=0.0000  , df=1\n",
      "parameter F test:         F=48.3232 , p=0.0000  , df_denom=146, df_num=1\n",
      "\n",
      "Granger Causality\n",
      "number of lags (no zero) 2\n",
      "ssr based F test:         F=36.5710 , p=0.0000  , df_denom=143, df_num=2\n",
      "ssr based chi2 test:   chi2=75.6994 , p=0.0000  , df=2\n",
      "likelihood ratio test: chi2=61.1375 , p=0.0000  , df=2\n",
      "parameter F test:         F=36.5710 , p=0.0000  , df_denom=143, df_num=2\n",
      "\n",
      "Granger Causality\n",
      "number of lags (no zero) 3\n",
      "ssr based F test:         F=23.6619 , p=0.0000  , df_denom=140, df_num=3\n",
      "ssr based chi2 test:   chi2=74.5350 , p=0.0000  , df=3\n",
      "likelihood ratio test: chi2=60.2917 , p=0.0000  , df=3\n",
      "parameter F test:         F=23.6619 , p=0.0000  , df_denom=140, df_num=3\n",
      "\n",
      "Granger Causality\n",
      "number of lags (no zero) 4\n",
      "ssr based F test:         F=17.9821 , p=0.0000  , df_denom=137, df_num=4\n",
      "ssr based chi2 test:   chi2=76.6537 , p=0.0000  , df=4\n",
      "likelihood ratio test: chi2=61.6136 , p=0.0000  , df=4\n",
      "parameter F test:         F=17.9821 , p=0.0000  , df_denom=137, df_num=4\n",
      "\n",
      "Granger Causality\n",
      "number of lags (no zero) 5\n",
      "ssr based F test:         F=14.9615 , p=0.0000  , df_denom=134, df_num=5\n",
      "ssr based chi2 test:   chi2=80.9484 , p=0.0000  , df=5\n",
      "likelihood ratio test: chi2=64.3181 , p=0.0000  , df=5\n",
      "parameter F test:         F=14.9615 , p=0.0000  , df_denom=134, df_num=5\n",
      "\n",
      "Granger Causality\n",
      "number of lags (no zero) 6\n",
      "ssr based F test:         F=12.3424 , p=0.0000  , df_denom=131, df_num=6\n",
      "ssr based chi2 test:   chi2=81.4035 , p=0.0000  , df=6\n",
      "likelihood ratio test: chi2=64.5234 , p=0.0000  , df=6\n",
      "parameter F test:         F=12.3424 , p=0.0000  , df_denom=131, df_num=6\n",
      "\n",
      "Granger Causality\n",
      "number of lags (no zero) 7\n",
      "ssr based F test:         F=10.4844 , p=0.0000  , df_denom=128, df_num=7\n",
      "ssr based chi2 test:   chi2=81.9911 , p=0.0000  , df=7\n",
      "likelihood ratio test: chi2=64.8099 , p=0.0000  , df=7\n",
      "parameter F test:         F=10.4844 , p=0.0000  , df_denom=128, df_num=7\n",
      "\n",
      "Granger Causality\n",
      "number of lags (no zero) 8\n",
      "ssr based F test:         F=9.5131  , p=0.0000  , df_denom=125, df_num=8\n",
      "ssr based chi2 test:   chi2=86.4552 , p=0.0000  , df=8\n",
      "likelihood ratio test: chi2=67.5228 , p=0.0000  , df=8\n",
      "parameter F test:         F=9.5131  , p=0.0000  , df_denom=125, df_num=8\n",
      "\n",
      "Granger Causality\n",
      "number of lags (no zero) 9\n",
      "ssr based F test:         F=8.8453  , p=0.0000  , df_denom=122, df_num=9\n",
      "ssr based chi2 test:   chi2=92.0053 , p=0.0000  , df=9\n",
      "likelihood ratio test: chi2=70.8245 , p=0.0000  , df=9\n",
      "parameter F test:         F=8.8453  , p=0.0000  , df_denom=122, df_num=9\n",
      "\n",
      "Granger Causality\n",
      "number of lags (no zero) 10\n",
      "ssr based F test:         F=7.4722  , p=0.0000  , df_denom=119, df_num=10\n",
      "ssr based chi2 test:   chi2=87.9082 , p=0.0000  , df=10\n",
      "likelihood ratio test: chi2=68.2221 , p=0.0000  , df=10\n",
      "parameter F test:         F=7.4722  , p=0.0000  , df_denom=119, df_num=10\n",
      "\n",
      "Granger Causality\n",
      "number of lags (no zero) 11\n",
      "ssr based F test:         F=6.5678  , p=0.0000  , df_denom=116, df_num=11\n",
      "ssr based chi2 test:   chi2=86.5705 , p=0.0000  , df=11\n",
      "likelihood ratio test: chi2=67.2981 , p=0.0000  , df=11\n",
      "parameter F test:         F=6.5678  , p=0.0000  , df_denom=116, df_num=11\n",
      "\n",
      "Granger Causality\n",
      "number of lags (no zero) 12\n",
      "ssr based F test:         F=7.3932  , p=0.0000  , df_denom=113, df_num=12\n",
      "ssr based chi2 test:   chi2=108.3470, p=0.0000  , df=12\n",
      "likelihood ratio test: chi2=79.9693 , p=0.0000  , df=12\n",
      "parameter F test:         F=7.3932  , p=0.0000  , df_denom=113, df_num=12\n",
      "\n",
      "Granger Causality\n",
      "number of lags (no zero) 13\n",
      "ssr based F test:         F=6.5335  , p=0.0000  , df_denom=110, df_num=13\n",
      "ssr based chi2 test:   chi2=105.7833, p=0.0000  , df=13\n",
      "likelihood ratio test: chi2=78.3898 , p=0.0000  , df=13\n",
      "parameter F test:         F=6.5335  , p=0.0000  , df_denom=110, df_num=13\n",
      "\n",
      "Granger Causality\n",
      "number of lags (no zero) 14\n",
      "ssr based F test:         F=6.6389  , p=0.0000  , df_denom=107, df_num=14\n",
      "ssr based chi2 test:   chi2=118.1347, p=0.0000  , df=14\n",
      "likelihood ratio test: chi2=85.0285 , p=0.0000  , df=14\n",
      "parameter F test:         F=6.6389  , p=0.0000  , df_denom=107, df_num=14\n",
      "\n",
      "Granger Causality\n",
      "number of lags (no zero) 15\n",
      "ssr based F test:         F=8.0291  , p=0.0000  , df_denom=104, df_num=15\n",
      "ssr based chi2 test:   chi2=156.3360, p=0.0000  , df=15\n",
      "likelihood ratio test: chi2=103.8423, p=0.0000  , df=15\n",
      "parameter F test:         F=8.0291  , p=0.0000  , df_denom=104, df_num=15\n"
     ]
    }
   ],
   "source": [
    "res = grangercausalitytests(data_diff[['Price_Seoul','Sentiment']],maxlag=15)"
   ]
  }
 ],
 "metadata": {
  "kernelspec": {
   "display_name": "Python 3",
   "language": "python",
   "name": "python3"
  },
  "language_info": {
   "codemirror_mode": {
    "name": "ipython",
    "version": 3
   },
   "file_extension": ".py",
   "mimetype": "text/x-python",
   "name": "python",
   "nbconvert_exporter": "python",
   "pygments_lexer": "ipython3",
   "version": "3.8.3"
  }
 },
 "nbformat": 4,
 "nbformat_minor": 4
}
